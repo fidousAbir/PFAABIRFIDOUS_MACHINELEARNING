{
  "nbformat": 4,
  "nbformat_minor": 0,
  "metadata": {
    "colab": {
      "provenance": [],
      "include_colab_link": true
    },
    "kernelspec": {
      "display_name": "Python 3",
      "name": "python3"
    },
    "language_info": {
      "name": "python"
    },
    "accelerator": "GPU"
  },
  "cells": [
    {
      "cell_type": "markdown",
      "metadata": {
        "id": "view-in-github",
        "colab_type": "text"
      },
      "source": [
        "<a href=\"https://colab.research.google.com/github/fidousAbir/PFAABIRFIDOUS_MACHINELEARNING/blob/main/Copie_de_PFA.ipynb\" target=\"_parent\"><img src=\"https://colab.research.google.com/assets/colab-badge.svg\" alt=\"Open In Colab\"/></a>"
      ]
    },
    {
      "cell_type": "code",
      "metadata": {
        "id": "xVtn779scPj2",
        "colab": {
          "base_uri": "https://localhost:8080/"
        },
        "outputId": "e3bb48b7-2e96-4f26-f8cb-bd527d97c174"
      },
      "source": [
        "import io, os\n",
        "from google.colab import drive\n",
        "drive.mount('/content/drive')"
      ],
      "execution_count": null,
      "outputs": [
        {
          "output_type": "stream",
          "name": "stdout",
          "text": [
            "Mounted at /content/drive\n"
          ]
        }
      ]
    },
    {
      "cell_type": "code",
      "metadata": {
        "id": "kLmBhQaEdGAP"
      },
      "source": [
        "import os\n",
        "from keras.models import Sequential\n",
        "from keras.layers import Convolution2D\n",
        "from keras.layers import MaxPooling2D\n",
        "from keras.layers import Flatten\n",
        "from keras.layers import Dense\n",
        "import numpy as np\n",
        "import glob\n",
        "from sklearn.preprocessing import OneHotEncoder\n",
        "import matplotlib.pyplot as plt\n",
        "import matplotlib.image as mpimg\n",
        "from keras import losses\n",
        "from tensorflow.keras.utils import to_categorical\n",
        "from keras.preprocessing.image import ImageDataGenerator\n",
        "from keras.preprocessing.image import ImageDataGenerator\n",
        "from keras.preprocessing.image import img_to_array\n",
        "from keras.preprocessing.image import load_img\n",
        "import cv2\n",
        "from PIL import *\n",
        "import pandas as pd\n",
        "import matplotlib.pyplot as plt\n",
        "import matplotlib.image as mpimg\n",
        "import seaborn as sns\n",
        "import tensorflow as tf\n",
        "\n",
        "\n",
        "from sklearn.model_selection import train_test_split\n",
        "from sklearn.metrics import confusion_matrix\n",
        "import itertools\n",
        "\n",
        "from keras.utils.np_utils import to_categorical # convert to one-hot-encoding\n",
        "from keras.models import Sequential\n",
        "from keras.layers import Dense, Dropout, Flatten, Conv2D, MaxPool2D\n",
        "from tensorflow.keras.optimizers import RMSprop\n",
        "from keras.preprocessing.image import ImageDataGenerator\n",
        "from keras.callbacks import ReduceLROnPlateau\n",
        "from keras.models import Sequential\n",
        "from keras.layers import Conv2D, MaxPooling2D\n",
        "from keras.layers import Activation, Dropout, Flatten, Dense\n",
        "import matplotlib.image as mpimg\n",
        "from tensorflow.keras.preprocessing import image\n"
      ],
      "execution_count": null,
      "outputs": []
    },
    {
      "cell_type": "markdown",
      "metadata": {
        "id": "8AFIYq8BvA2l"
      },
      "source": [
        "Resize image itachi"
      ]
    },
    {
      "cell_type": "code",
      "metadata": {
        "id": "ixTOJasIwo0O"
      },
      "source": [
        "I=r'/content/drive/MyDrive/photos/data/Itachi'\n",
        "os.listdir(I)\n",
        "Itachi=[]\n",
        "for file in os.listdir(I):\n",
        "  I_img=I+\"/\"+file\n",
        "  img = Image.open(I_img)\n",
        "  img=img.convert('RGB')\n",
        "  img = img.resize((200,200))\n",
        "  img1=np.asarray(img)\n",
        "  Itachi.append(img1)"
      ],
      "execution_count": null,
      "outputs": []
    },
    {
      "cell_type": "code",
      "metadata": {
        "colab": {
          "base_uri": "https://localhost:8080/"
        },
        "id": "JpEc0x1SwzJU",
        "outputId": "f325af7e-af17-4975-b40b-f06a537c0c0a"
      },
      "source": [
        "Itachi=np.asarray(Itachi)\n",
        "Itachi.shape"
      ],
      "execution_count": null,
      "outputs": [
        {
          "output_type": "execute_result",
          "data": {
            "text/plain": [
              "(142, 200, 200, 3)"
            ]
          },
          "metadata": {},
          "execution_count": 36
        }
      ]
    },
    {
      "cell_type": "code",
      "metadata": {
        "id": "WebsuU5XyyPw"
      },
      "source": [
        "yItachi=[]\n",
        "for i in range(0,1):\n",
        "    for j in range(142):\n",
        "        yItachi.append(i)\n",
        "yItachi=np.array(yItachi)\n"
      ],
      "execution_count": null,
      "outputs": []
    },
    {
      "cell_type": "code",
      "metadata": {
        "colab": {
          "base_uri": "https://localhost:8080/"
        },
        "id": "rPqtAHcvy2hl",
        "outputId": "b202e662-93b0-4e43-d9bc-d3535c77451b"
      },
      "source": [
        "yItachi=np.asarray(yItachi)\n",
        "yItachi.shape"
      ],
      "execution_count": null,
      "outputs": [
        {
          "output_type": "execute_result",
          "data": {
            "text/plain": [
              "(142,)"
            ]
          },
          "metadata": {},
          "execution_count": 38
        }
      ]
    },
    {
      "cell_type": "code",
      "metadata": {
        "colab": {
          "base_uri": "https://localhost:8080/"
        },
        "id": "pIwBPKMapO23",
        "outputId": "9699b339-4b75-46c1-a96e-dd4fc6c67008"
      },
      "source": [
        "print(yItachi)"
      ],
      "execution_count": null,
      "outputs": [
        {
          "output_type": "stream",
          "name": "stdout",
          "text": [
            "[0 0 0 0 0 0 0 0 0 0 0 0 0 0 0 0 0 0 0 0 0 0 0 0 0 0 0 0 0 0 0 0 0 0 0 0 0\n",
            " 0 0 0 0 0 0 0 0 0 0 0 0 0 0 0 0 0 0 0 0 0 0 0 0 0 0 0 0 0 0 0 0 0 0 0 0 0\n",
            " 0 0 0 0 0 0 0 0 0 0 0 0 0 0 0 0 0 0 0 0 0 0 0 0 0 0 0 0 0 0 0 0 0 0 0 0 0\n",
            " 0 0 0 0 0 0 0 0 0 0 0 0 0 0 0 0 0 0 0 0 0 0 0 0 0 0 0 0 0 0 0]\n"
          ]
        }
      ]
    },
    {
      "cell_type": "markdown",
      "metadata": {
        "id": "LtY9QDQgvIto"
      },
      "source": [
        "Resize image Luffy"
      ]
    },
    {
      "cell_type": "code",
      "metadata": {
        "id": "_ojJly5wxjJt"
      },
      "source": [
        "L=r'/content/drive/MyDrive/photos/data/Luffy'\n",
        "os.listdir(L)\n",
        "Luffy=[]\n",
        "for file in os.listdir(L):\n",
        "  L_img=L+\"/\"+file\n",
        "  img = Image.open(L_img)\n",
        "  img=img.convert('RGB')\n",
        "  img = img.resize((200,200))\n",
        "  img2=np.asarray(img)\n",
        "  Luffy.append(img2)"
      ],
      "execution_count": null,
      "outputs": []
    },
    {
      "cell_type": "code",
      "metadata": {
        "colab": {
          "base_uri": "https://localhost:8080/"
        },
        "id": "_oBkQ7i-yJn7",
        "outputId": "61f59c0d-516c-48df-8d96-02eeae3545dc"
      },
      "source": [
        "Luffy=np.asarray(Luffy)\n",
        "Luffy.shape"
      ],
      "execution_count": null,
      "outputs": [
        {
          "output_type": "execute_result",
          "data": {
            "text/plain": [
              "(168, 200, 200, 3)"
            ]
          },
          "metadata": {},
          "execution_count": 4
        }
      ]
    },
    {
      "cell_type": "code",
      "metadata": {
        "id": "wLkJsP-mw8os"
      },
      "source": [
        "yLuffy=[]\n",
        "for i in range(1,2):\n",
        "    for j in range(168):\n",
        "        yLuffy.append(i)\n",
        "yLuffy=np.array(yLuffy)"
      ],
      "execution_count": null,
      "outputs": []
    },
    {
      "cell_type": "code",
      "metadata": {
        "colab": {
          "base_uri": "https://localhost:8080/"
        },
        "id": "XXmMM6XVwXhr",
        "outputId": "f94d1885-f18f-4d9c-cb40-549c5ca692e6"
      },
      "source": [
        "yLuffy=np.asarray(yLuffy)\n",
        "yLuffy.shape"
      ],
      "execution_count": null,
      "outputs": [
        {
          "output_type": "execute_result",
          "data": {
            "text/plain": [
              "(168,)"
            ]
          },
          "metadata": {},
          "execution_count": 6
        }
      ]
    },
    {
      "cell_type": "code",
      "metadata": {
        "colab": {
          "base_uri": "https://localhost:8080/"
        },
        "id": "PHqiMNXWXbCm",
        "outputId": "b5c46e7a-96a5-4646-e43e-23c4431f6ecc"
      },
      "source": [
        "print(yLuffy)"
      ],
      "execution_count": null,
      "outputs": [
        {
          "output_type": "stream",
          "name": "stdout",
          "text": [
            "[1 1 1 1 1 1 1 1 1 1 1 1 1 1 1 1 1 1 1 1 1 1 1 1 1 1 1 1 1 1 1 1 1 1 1 1 1\n",
            " 1 1 1 1 1 1 1 1 1 1 1 1 1 1 1 1 1 1 1 1 1 1 1 1 1 1 1 1 1 1 1 1 1 1 1 1 1\n",
            " 1 1 1 1 1 1 1 1 1 1 1 1 1 1 1 1 1 1 1 1 1 1 1 1 1 1 1 1 1 1 1 1 1 1 1 1 1\n",
            " 1 1 1 1 1 1 1 1 1 1 1 1 1 1 1 1 1 1 1 1 1 1 1 1 1 1 1 1 1 1 1 1 1 1 1 1 1\n",
            " 1 1 1 1 1 1 1 1 1 1 1 1 1 1 1 1 1 1 1 1]\n"
          ]
        }
      ]
    },
    {
      "cell_type": "markdown",
      "metadata": {
        "id": "aWvSf490vL10"
      },
      "source": [
        "Resize image Nami"
      ]
    },
    {
      "cell_type": "code",
      "metadata": {
        "id": "TqYhENJVyWtd"
      },
      "source": [
        "N=r'/content/drive/MyDrive/photos/data/Nami'\n",
        "os.listdir(N)\n",
        "Nami=[]\n",
        "for file in os.listdir(N):\n",
        "  N_img=N+\"/\"+file\n",
        "  img = Image.open(N_img)\n",
        "  img=img.convert('RGB')\n",
        "  img = img.resize((200,200))\n",
        "  img3=np.asarray(img)\n",
        "  Nami.append(img3)"
      ],
      "execution_count": null,
      "outputs": []
    },
    {
      "cell_type": "code",
      "metadata": {
        "colab": {
          "base_uri": "https://localhost:8080/"
        },
        "id": "_kbU6q61weVv",
        "outputId": "cc7ad856-16a6-4cf1-ad88-6e123bb528df"
      },
      "source": [
        "Nami=np.asarray(Nami)\n",
        "Nami.shape"
      ],
      "execution_count": null,
      "outputs": [
        {
          "output_type": "execute_result",
          "data": {
            "text/plain": [
              "(171, 200, 200, 3)"
            ]
          },
          "metadata": {},
          "execution_count": 9
        }
      ]
    },
    {
      "cell_type": "code",
      "metadata": {
        "id": "UrVr04mWweCO"
      },
      "source": [
        "yNami=[]\n",
        "for i in range(2,3):\n",
        "    for j in range(171):\n",
        "        yNami.append(i)\n",
        "yNami=np.array(yNami)"
      ],
      "execution_count": null,
      "outputs": []
    },
    {
      "cell_type": "code",
      "metadata": {
        "colab": {
          "base_uri": "https://localhost:8080/"
        },
        "id": "lSVOnV-MwdZ6",
        "outputId": "5746ff8f-ba72-4595-c54f-a6857568d334"
      },
      "source": [
        "yNami=np.asarray(yNami)\n",
        "yNami.shape"
      ],
      "execution_count": null,
      "outputs": [
        {
          "output_type": "execute_result",
          "data": {
            "text/plain": [
              "(171,)"
            ]
          },
          "metadata": {},
          "execution_count": 11
        }
      ]
    },
    {
      "cell_type": "code",
      "metadata": {
        "colab": {
          "base_uri": "https://localhost:8080/"
        },
        "id": "NCYncwvppg-v",
        "outputId": "f755c786-ed56-48ed-d23a-89347d598c34"
      },
      "source": [
        "print(yNami)"
      ],
      "execution_count": null,
      "outputs": [
        {
          "output_type": "stream",
          "name": "stdout",
          "text": [
            "[2 2 2 2 2 2 2 2 2 2 2 2 2 2 2 2 2 2 2 2 2 2 2 2 2 2 2 2 2 2 2 2 2 2 2 2 2\n",
            " 2 2 2 2 2 2 2 2 2 2 2 2 2 2 2 2 2 2 2 2 2 2 2 2 2 2 2 2 2 2 2 2 2 2 2 2 2\n",
            " 2 2 2 2 2 2 2 2 2 2 2 2 2 2 2 2 2 2 2 2 2 2 2 2 2 2 2 2 2 2 2 2 2 2 2 2 2\n",
            " 2 2 2 2 2 2 2 2 2 2 2 2 2 2 2 2 2 2 2 2 2 2 2 2 2 2 2 2 2 2 2 2 2 2 2 2 2\n",
            " 2 2 2 2 2 2 2 2 2 2 2 2 2 2 2 2 2 2 2 2 2 2 2]\n"
          ]
        }
      ]
    },
    {
      "cell_type": "markdown",
      "metadata": {
        "id": "KX5W8s8wvOwm"
      },
      "source": [
        "Resize image Nico Robin"
      ]
    },
    {
      "cell_type": "code",
      "metadata": {
        "id": "4uIZkc0xwNyM"
      },
      "source": [
        "NR=r'/content/drive/MyDrive/photos/data/Nico Robin'\n",
        "os.listdir(NR)\n",
        "NicoRobin=[]\n",
        "for file in os.listdir(NR):\n",
        "  NR_img=NR+\"/\"+file\n",
        "  img = Image.open(NR_img)\n",
        "  img=img.convert('RGB')\n",
        "  img = img.resize((200,200))\n",
        "  img4=np.asarray(img)\n",
        "  NicoRobin.append(img4)"
      ],
      "execution_count": null,
      "outputs": []
    },
    {
      "cell_type": "code",
      "metadata": {
        "colab": {
          "base_uri": "https://localhost:8080/"
        },
        "id": "VXS07gKBwf53",
        "outputId": "f48458a3-57fa-4f73-f014-4cc55f5ef96f"
      },
      "source": [
        "NicoRobin=np.asarray(NicoRobin)\n",
        "NicoRobin.shape"
      ],
      "execution_count": null,
      "outputs": [
        {
          "output_type": "execute_result",
          "data": {
            "text/plain": [
              "(240, 200, 200, 3)"
            ]
          },
          "metadata": {},
          "execution_count": 14
        }
      ]
    },
    {
      "cell_type": "code",
      "metadata": {
        "id": "Sy0SnC9cwfqw"
      },
      "source": [
        "yNicoRobin=[]\n",
        "for i in range(3,4):\n",
        "    for j in range(240):\n",
        "        yNicoRobin.append(i)\n",
        "yNicoRobin=np.array(yNicoRobin)"
      ],
      "execution_count": null,
      "outputs": []
    },
    {
      "cell_type": "code",
      "metadata": {
        "colab": {
          "base_uri": "https://localhost:8080/"
        },
        "id": "xbbvAKC_wfe6",
        "outputId": "a900b4b5-fcfb-49e8-d343-7ee0854752ab"
      },
      "source": [
        "yNicoRobin=np.asarray(yNicoRobin)\n",
        "yNicoRobin.shape"
      ],
      "execution_count": null,
      "outputs": [
        {
          "output_type": "execute_result",
          "data": {
            "text/plain": [
              "(240,)"
            ]
          },
          "metadata": {},
          "execution_count": 16
        }
      ]
    },
    {
      "cell_type": "code",
      "metadata": {
        "colab": {
          "base_uri": "https://localhost:8080/"
        },
        "id": "2BGapMM2ppWX",
        "outputId": "d8195d28-7056-4684-cfca-520d177e2db6"
      },
      "source": [
        "print(yNicoRobin)"
      ],
      "execution_count": null,
      "outputs": [
        {
          "output_type": "stream",
          "name": "stdout",
          "text": [
            "[3 3 3 3 3 3 3 3 3 3 3 3 3 3 3 3 3 3 3 3 3 3 3 3 3 3 3 3 3 3 3 3 3 3 3 3 3\n",
            " 3 3 3 3 3 3 3 3 3 3 3 3 3 3 3 3 3 3 3 3 3 3 3 3 3 3 3 3 3 3 3 3 3 3 3 3 3\n",
            " 3 3 3 3 3 3 3 3 3 3 3 3 3 3 3 3 3 3 3 3 3 3 3 3 3 3 3 3 3 3 3 3 3 3 3 3 3\n",
            " 3 3 3 3 3 3 3 3 3 3 3 3 3 3 3 3 3 3 3 3 3 3 3 3 3 3 3 3 3 3 3 3 3 3 3 3 3\n",
            " 3 3 3 3 3 3 3 3 3 3 3 3 3 3 3 3 3 3 3 3 3 3 3 3 3 3 3 3 3 3 3 3 3 3 3 3 3\n",
            " 3 3 3 3 3 3 3 3 3 3 3 3 3 3 3 3 3 3 3 3 3 3 3 3 3 3 3 3 3 3 3 3 3 3 3 3 3\n",
            " 3 3 3 3 3 3 3 3 3 3 3 3 3 3 3 3 3 3]\n"
          ]
        }
      ]
    },
    {
      "cell_type": "markdown",
      "metadata": {
        "id": "LNvIgo_lzdK8"
      },
      "source": [
        "Affichage des image"
      ]
    },
    {
      "cell_type": "code",
      "metadata": {
        "colab": {
          "base_uri": "https://localhost:8080/",
          "height": 503
        },
        "id": "Q7PkG1kHzWGW",
        "outputId": "747618b8-6fb6-4c23-df51-6f2558da6bf3"
      },
      "source": [
        "plt.figure(figsize=(8,8))\n",
        "plt.subplot(221),plt.imshow(Luffy[0])\n",
        "plt.xticks([]), plt.yticks([])\n",
        "plt.subplot(222),plt.imshow(Nami[0])\n",
        "plt.xticks([]), plt.yticks([])\n",
        "plt.subplot(223),plt.imshow(NicoRobin[8])\n",
        "plt.xticks([]), plt.yticks([])\n",
        "plt.subplot(224),plt.imshow(Itachi[22])\n",
        "plt.xticks([]), plt.yticks([])"
      ],
      "execution_count": null,
      "outputs": [
        {
          "output_type": "execute_result",
          "data": {
            "text/plain": [
              "(([], <a list of 0 Text major ticklabel objects>),\n",
              " ([], <a list of 0 Text major ticklabel objects>))"
            ]
          },
          "metadata": {},
          "execution_count": 19
        },
        {
          "output_type": "display_data",
          "data": {
            "image/png": "[encoded data removed]",
            "text/plain": [
              "<Figure size 576x576 with 3 Axes>"
            ]
          },
          "metadata": {}
        }
      ]
    },
    {
      "cell_type": "markdown",
      "metadata": {
        "id": "KQf9LMKawtHs"
      },
      "source": [
        "creation data"
      ]
    },
    {
      "cell_type": "code",
      "metadata": {
        "id": "AxECihPgwq84"
      },
      "source": [
        "data1= np.concatenate((Itachi,Luffy,Nami,NicoRobin),axis=0)\n"
      ],
      "execution_count": null,
      "outputs": []
    },
    {
      "cell_type": "code",
      "source": [
        "data1= np.concatenate((\n",
        "    Luffy,Nami,NicoRobin),axis=0)"
      ],
      "metadata": {
        "id": "b5kCaG2j2Vdx"
      },
      "execution_count": null,
      "outputs": []
    },
    {
      "cell_type": "code",
      "metadata": {
        "colab": {
          "base_uri": "https://localhost:8080/"
        },
        "id": "3y55jM6NwyCk",
        "outputId": "ad36cb81-2d46-40f2-8229-00c5335c7136"
      },
      "source": [
        "data1.shape"
      ],
      "execution_count": null,
      "outputs": [
        {
          "output_type": "execute_result",
          "data": {
            "text/plain": [
              "(579, 200, 200, 3)"
            ]
          },
          "metadata": {},
          "execution_count": 22
        }
      ]
    },
    {
      "cell_type": "code",
      "metadata": {
        "colab": {
          "base_uri": "https://localhost:8080/"
        },
        "id": "DSOfrLtcrQQl",
        "outputId": "9607665b-6d78-4b47-e509-74a0094ac618"
      },
      "source": [
        "print(data1)"
      ],
      "execution_count": null,
      "outputs": [
        {
          "output_type": "stream",
          "name": "stdout",
          "text": [
            "[[[[192 194 203]\n",
            "   [193 195 204]\n",
            "   [194 195 204]\n",
            "   ...\n",
            "   [190 192 202]\n",
            "   [189 191 201]\n",
            "   [188 191 201]]\n",
            "\n",
            "  [[192 194 203]\n",
            "   [193 195 204]\n",
            "   [194 195 204]\n",
            "   ...\n",
            "   [190 192 202]\n",
            "   [189 191 201]\n",
            "   [188 191 201]]\n",
            "\n",
            "  [[192 194 203]\n",
            "   [193 195 204]\n",
            "   [194 195 204]\n",
            "   ...\n",
            "   [190 192 202]\n",
            "   [189 191 201]\n",
            "   [188 191 201]]\n",
            "\n",
            "  ...\n",
            "\n",
            "  [[192 194 203]\n",
            "   [193 195 204]\n",
            "   [194 195 204]\n",
            "   ...\n",
            "   [190 192 202]\n",
            "   [189 191 201]\n",
            "   [188 191 201]]\n",
            "\n",
            "  [[192 194 203]\n",
            "   [193 195 204]\n",
            "   [194 195 204]\n",
            "   ...\n",
            "   [190 192 202]\n",
            "   [189 191 201]\n",
            "   [188 191 201]]\n",
            "\n",
            "  [[192 194 203]\n",
            "   [193 195 204]\n",
            "   [194 195 204]\n",
            "   ...\n",
            "   [190 192 202]\n",
            "   [189 191 201]\n",
            "   [188 191 201]]]\n",
            "\n",
            "\n",
            " [[[255 255 255]\n",
            "   [255 255 255]\n",
            "   [255 255 255]\n",
            "   ...\n",
            "   [255 255 255]\n",
            "   [251 251 251]\n",
            "   [231 231 231]]\n",
            "\n",
            "  [[255 255 255]\n",
            "   [255 255 255]\n",
            "   [255 255 255]\n",
            "   ...\n",
            "   [255 255 255]\n",
            "   [251 251 251]\n",
            "   [231 231 231]]\n",
            "\n",
            "  [[255 255 255]\n",
            "   [255 255 255]\n",
            "   [255 255 255]\n",
            "   ...\n",
            "   [255 255 255]\n",
            "   [251 251 251]\n",
            "   [231 231 231]]\n",
            "\n",
            "  ...\n",
            "\n",
            "  [[255 255 255]\n",
            "   [255 255 255]\n",
            "   [255 255 255]\n",
            "   ...\n",
            "   [255 255 255]\n",
            "   [251 251 251]\n",
            "   [231 231 231]]\n",
            "\n",
            "  [[255 255 255]\n",
            "   [255 255 255]\n",
            "   [255 255 255]\n",
            "   ...\n",
            "   [255 255 255]\n",
            "   [251 251 251]\n",
            "   [231 231 231]]\n",
            "\n",
            "  [[255 255 255]\n",
            "   [255 255 255]\n",
            "   [255 255 255]\n",
            "   ...\n",
            "   [255 255 255]\n",
            "   [251 251 251]\n",
            "   [231 231 231]]]\n",
            "\n",
            "\n",
            " [[[255 251 255]\n",
            "   [255 252 255]\n",
            "   [252 255 252]\n",
            "   ...\n",
            "   [255 253 255]\n",
            "   [255 254 249]\n",
            "   [255 255 251]]\n",
            "\n",
            "  [[255 253 254]\n",
            "   [255 254 255]\n",
            "   [253 255 249]\n",
            "   ...\n",
            "   [249 239 225]\n",
            "   [253 245 220]\n",
            "   [253 251 237]]\n",
            "\n",
            "  [[255 255 248]\n",
            "   [255 255 254]\n",
            "   [252 255 247]\n",
            "   ...\n",
            "   [217 196 147]\n",
            "   [208 191 134]\n",
            "   [229 224 190]]\n",
            "\n",
            "  ...\n",
            "\n",
            "  [[254 254 254]\n",
            "   [252 252 252]\n",
            "   [246 246 246]\n",
            "   ...\n",
            "   [247 247 247]\n",
            "   [252 252 252]\n",
            "   [254 254 254]]\n",
            "\n",
            "  [[255 255 255]\n",
            "   [253 253 253]\n",
            "   [251 251 251]\n",
            "   ...\n",
            "   [253 253 253]\n",
            "   [255 255 255]\n",
            "   [255 255 255]]\n",
            "\n",
            "  [[255 255 255]\n",
            "   [254 254 254]\n",
            "   [253 253 253]\n",
            "   ...\n",
            "   [254 254 254]\n",
            "   [255 255 255]\n",
            "   [255 255 255]]]\n",
            "\n",
            "\n",
            " ...\n",
            "\n",
            "\n",
            " [[[ 57  57  91]\n",
            "   [ 47  47  82]\n",
            "   [ 38  38  74]\n",
            "   ...\n",
            "   [ 47  50  93]\n",
            "   [ 47  50  93]\n",
            "   [ 48  51  94]]\n",
            "\n",
            "  [[ 56  56  90]\n",
            "   [ 47  47  82]\n",
            "   [ 38  38  74]\n",
            "   ...\n",
            "   [ 47  50  93]\n",
            "   [ 47  50  93]\n",
            "   [ 48  51  94]]\n",
            "\n",
            "  [[ 55  55  89]\n",
            "   [ 46  46  81]\n",
            "   [ 37  37  73]\n",
            "   ...\n",
            "   [ 46  49  92]\n",
            "   [ 46  49  92]\n",
            "   [ 48  51  94]]\n",
            "\n",
            "  ...\n",
            "\n",
            "  [[ 44  48  88]\n",
            "   [ 44  47  87]\n",
            "   [ 43  47  85]\n",
            "   ...\n",
            "   [ 54  67  68]\n",
            "   [ 56  63  66]\n",
            "   [ 61  63  67]]\n",
            "\n",
            "  [[ 51  55  93]\n",
            "   [ 45  49  86]\n",
            "   [ 45  49  87]\n",
            "   ...\n",
            "   [ 54  71  72]\n",
            "   [ 50  60  62]\n",
            "   [ 58  63  67]]\n",
            "\n",
            "  [[ 58  62 100]\n",
            "   [ 45  49  87]\n",
            "   [ 47  51  89]\n",
            "   ...\n",
            "   [ 52  72  73]\n",
            "   [ 48  62  63]\n",
            "   [ 61  67  71]]]\n",
            "\n",
            "\n",
            " [[[  0   0   0]\n",
            "   [  0   0   0]\n",
            "   [  0   0   0]\n",
            "   ...\n",
            "   [  0   0   0]\n",
            "   [  0   0   0]\n",
            "   [  0   0   0]]\n",
            "\n",
            "  [[  0   0   0]\n",
            "   [  0   0   0]\n",
            "   [  0   0   0]\n",
            "   ...\n",
            "   [  0   0   0]\n",
            "   [  0   0   0]\n",
            "   [  0   0   0]]\n",
            "\n",
            "  [[  0   0   0]\n",
            "   [  0   0   0]\n",
            "   [  0   0   0]\n",
            "   ...\n",
            "   [  0   0   0]\n",
            "   [  0   0   0]\n",
            "   [  0   0   0]]\n",
            "\n",
            "  ...\n",
            "\n",
            "  [[  0   0   0]\n",
            "   [  0   0   0]\n",
            "   [  0   0   0]\n",
            "   ...\n",
            "   [  0   0   0]\n",
            "   [  0   0   0]\n",
            "   [  0   0   0]]\n",
            "\n",
            "  [[ 12  12  12]\n",
            "   [  0   0   0]\n",
            "   [  0   0   0]\n",
            "   ...\n",
            "   [  0   0   0]\n",
            "   [  0   0   0]\n",
            "   [ 12  12  12]]\n",
            "\n",
            "  [[ 24  24  24]\n",
            "   [  0   0   0]\n",
            "   [  0   0   0]\n",
            "   ...\n",
            "   [  0   0   0]\n",
            "   [  0   0   0]\n",
            "   [ 25  25  25]]]\n",
            "\n",
            "\n",
            " [[[180 205 239]\n",
            "   [190 213 240]\n",
            "   [210 231 251]\n",
            "   ...\n",
            "   [221 244 250]\n",
            "   [221 244 250]\n",
            "   [227 250 254]]\n",
            "\n",
            "  [[177 202 237]\n",
            "   [180 205 234]\n",
            "   [197 219 242]\n",
            "   ...\n",
            "   [218 241 247]\n",
            "   [218 241 247]\n",
            "   [223 246 252]]\n",
            "\n",
            "  [[165 192 230]\n",
            "   [177 203 234]\n",
            "   [188 212 237]\n",
            "   ...\n",
            "   [219 242 248]\n",
            "   [219 242 248]\n",
            "   [221 244 250]]\n",
            "\n",
            "  ...\n",
            "\n",
            "  [[ 48  58 109]\n",
            "   [ 45  53  92]\n",
            "   [ 38  44  64]\n",
            "   ...\n",
            "   [ 93  94  85]\n",
            "   [ 75  87  74]\n",
            "   [110 129 113]]\n",
            "\n",
            "  [[ 49  50  79]\n",
            "   [ 58  59  78]\n",
            "   [ 73  71  77]\n",
            "   ...\n",
            "   [ 98  94  88]\n",
            "   [109 108 104]\n",
            "   [ 74  74  72]]\n",
            "\n",
            "  [[ 61  58  78]\n",
            "   [ 81  78  89]\n",
            "   [ 94  89  89]\n",
            "   ...\n",
            "   [ 90  87  84]\n",
            "   [120 115 117]\n",
            "   [104  98 103]]]]\n"
          ]
        }
      ]
    },
    {
      "cell_type": "markdown",
      "metadata": {
        "id": "HvjE9ralwwIM"
      },
      "source": [
        "creation label"
      ]
    },
    {
      "cell_type": "code",
      "metadata": {
        "id": "uEksQ0UxwzYr"
      },
      "source": [
        "label= np.concatenate((yItachi,yLuffy,yNami,yNicoRobin),axis=0)"
      ],
      "execution_count": null,
      "outputs": []
    },
    {
      "cell_type": "code",
      "source": [
        "label= np.concatenate((yLuffy,yNami,yNicoRobin),axis=0)"
      ],
      "metadata": {
        "id": "8dwoA7At2fQD"
      },
      "execution_count": null,
      "outputs": []
    },
    {
      "cell_type": "code",
      "metadata": {
        "colab": {
          "base_uri": "https://localhost:8080/"
        },
        "id": "KMVajskHwzM9",
        "outputId": "99832e7a-8f02-47b9-dca9-2c4b2c0091ee"
      },
      "source": [
        "label.shape"
      ],
      "execution_count": null,
      "outputs": [
        {
          "output_type": "execute_result",
          "data": {
            "text/plain": [
              "(579,)"
            ]
          },
          "metadata": {},
          "execution_count": 25
        }
      ]
    },
    {
      "cell_type": "code",
      "metadata": {
        "colab": {
          "base_uri": "https://localhost:8080/"
        },
        "id": "UhYsrFyKrWAu",
        "outputId": "016e24f8-7c1a-4e8d-d4c4-815f799b3b72"
      },
      "source": [
        "print(label)"
      ],
      "execution_count": null,
      "outputs": [
        {
          "output_type": "stream",
          "name": "stdout",
          "text": [
            "[1 1 1 1 1 1 1 1 1 1 1 1 1 1 1 1 1 1 1 1 1 1 1 1 1 1 1 1 1 1 1 1 1 1 1 1 1\n",
            " 1 1 1 1 1 1 1 1 1 1 1 1 1 1 1 1 1 1 1 1 1 1 1 1 1 1 1 1 1 1 1 1 1 1 1 1 1\n",
            " 1 1 1 1 1 1 1 1 1 1 1 1 1 1 1 1 1 1 1 1 1 1 1 1 1 1 1 1 1 1 1 1 1 1 1 1 1\n",
            " 1 1 1 1 1 1 1 1 1 1 1 1 1 1 1 1 1 1 1 1 1 1 1 1 1 1 1 1 1 1 1 1 1 1 1 1 1\n",
            " 1 1 1 1 1 1 1 1 1 1 1 1 1 1 1 1 1 1 1 1 2 2 2 2 2 2 2 2 2 2 2 2 2 2 2 2 2\n",
            " 2 2 2 2 2 2 2 2 2 2 2 2 2 2 2 2 2 2 2 2 2 2 2 2 2 2 2 2 2 2 2 2 2 2 2 2 2\n",
            " 2 2 2 2 2 2 2 2 2 2 2 2 2 2 2 2 2 2 2 2 2 2 2 2 2 2 2 2 2 2 2 2 2 2 2 2 2\n",
            " 2 2 2 2 2 2 2 2 2 2 2 2 2 2 2 2 2 2 2 2 2 2 2 2 2 2 2 2 2 2 2 2 2 2 2 2 2\n",
            " 2 2 2 2 2 2 2 2 2 2 2 2 2 2 2 2 2 2 2 2 2 2 2 2 2 2 2 2 2 2 2 2 2 2 2 2 2\n",
            " 2 2 2 2 2 2 3 3 3 3 3 3 3 3 3 3 3 3 3 3 3 3 3 3 3 3 3 3 3 3 3 3 3 3 3 3 3\n",
            " 3 3 3 3 3 3 3 3 3 3 3 3 3 3 3 3 3 3 3 3 3 3 3 3 3 3 3 3 3 3 3 3 3 3 3 3 3\n",
            " 3 3 3 3 3 3 3 3 3 3 3 3 3 3 3 3 3 3 3 3 3 3 3 3 3 3 3 3 3 3 3 3 3 3 3 3 3\n",
            " 3 3 3 3 3 3 3 3 3 3 3 3 3 3 3 3 3 3 3 3 3 3 3 3 3 3 3 3 3 3 3 3 3 3 3 3 3\n",
            " 3 3 3 3 3 3 3 3 3 3 3 3 3 3 3 3 3 3 3 3 3 3 3 3 3 3 3 3 3 3 3 3 3 3 3 3 3\n",
            " 3 3 3 3 3 3 3 3 3 3 3 3 3 3 3 3 3 3 3 3 3 3 3 3 3 3 3 3 3 3 3 3 3 3 3 3 3\n",
            " 3 3 3 3 3 3 3 3 3 3 3 3 3 3 3 3 3 3 3 3 3 3 3 3]\n"
          ]
        }
      ]
    },
    {
      "cell_type": "markdown",
      "metadata": {
        "id": "UtvkyXnT1VUo"
      },
      "source": [
        "creation train/test"
      ]
    },
    {
      "cell_type": "code",
      "metadata": {
        "id": "w2p8jO8v1aAq"
      },
      "source": [
        "from sklearn.model_selection import train_test_split\n",
        "x_train, x_test, y_train, y_test = train_test_split(data1,label, test_size=0.66,random_state=0)\n",
        "# x_train1=x_train.reshape(x_train.shape[0],x_train.shape[1],x_train.shape[2],1)\n",
        "# x_test1=x_train.reshape(x_test.shape[0],x_test.shape[1],x_test.shape[2],1)\n"
      ],
      "execution_count": null,
      "outputs": []
    },
    {
      "cell_type": "markdown",
      "metadata": {
        "id": "ad1Jchmsw0hL"
      },
      "source": [
        "Creation Model CNN"
      ]
    },
    {
      "cell_type": "code",
      "metadata": {
        "id": "c0b8v5Kj6DgF"
      },
      "source": [
        "import imageio\n",
        "import numpy as np\n",
        "import pickle\n",
        "import os\n",
        "import matplotlib.pyplot as plt\n",
        "import tensorflow as tf\n",
        "from tensorflow import keras\n",
        "from tensorflow.keras import layers, optimizers, datasets, Sequential\n",
        "from tensorflow.keras.layers import Conv2D,Activation,MaxPooling2D,Dropout,Flatten,Dense"
      ],
      "execution_count": null,
      "outputs": []
    },
    {
      "cell_type": "code",
      "metadata": {
        "colab": {
          "base_uri": "https://localhost:8080/"
        },
        "id": "3jMb0VV3MtpR",
        "outputId": "1c35ce19-8f2f-4e78-b1dc-46d14f243b79"
      },
      "source": [
        "# #creation model\n",
        "# Initialising the CNN\n",
        "model = Sequential()\n",
        "# Convolution\n",
        "model.add(Conv2D(32, (3, 3), input_shape = (200, 200, 3 ), activation = 'relu'))\n",
        "# Pooling\n",
        "model.add(MaxPooling2D(pool_size = (3, 3)))\n",
        "# Convolution\n",
        "model.add(Conv2D(64, (3, 3), input_shape = (200, 200, 3 ), activation = 'relu'))\n",
        "# Pooling\n",
        "model.add(MaxPooling2D(pool_size = (3, 3)))\n",
        "# Convolution\n",
        "model.add(Conv2D(128, (3, 3), input_shape = (200, 200, 3 ), activation = 'relu'))\n",
        "# Pooling\n",
        "model.add(MaxPooling2D(pool_size = (3, 3)))\n",
        "# Convolution\n",
        "model.add(Conv2D(256, (3, 3), input_shape = (200, 200, 3 ), activation = 'relu'))\n",
        "# Flattening\n",
        "model.add(Flatten())\n",
        "# Full connection\n",
        "model.add(Dense(units = 256, activation = 'relu'))\n",
        "# Add Dropout to prevent overfitting\n",
        "model.add(Dropout(0.25))\n",
        "model.add(Dense(units = 128, activation = 'relu'))\n",
        "model.add(Dense(units = 3, activation = 'softmax'))\n",
        "# Compiling the CNN\n",
        "model.compile(optimizer = 'adam', loss = 'sparse_categorical_crossentropy', metrics = ['accuracy'])\n",
        "model.summary()\n"
      ],
      "execution_count": null,
      "outputs": [
        {
          "output_type": "stream",
          "name": "stdout",
          "text": [
            "Model: \"sequential\"\n",
            "_________________________________________________________________\n",
            " Layer (type)                Output Shape              Param #   \n",
            "=================================================================\n",
            " conv2d (Conv2D)             (None, 198, 198, 32)      896       \n",
            "                                                                 \n",
            " max_pooling2d (MaxPooling2D  (None, 66, 66, 32)       0         \n",
            " )                                                               \n",
            "                                                                 \n",
            " conv2d_1 (Conv2D)           (None, 64, 64, 64)        18496     \n",
            "                                                                 \n",
            " max_pooling2d_1 (MaxPooling  (None, 21, 21, 64)       0         \n",
            " 2D)                                                             \n",
            "                                                                 \n",
            " conv2d_2 (Conv2D)           (None, 19, 19, 128)       73856     \n",
            "                                                                 \n",
            " max_pooling2d_2 (MaxPooling  (None, 6, 6, 128)        0         \n",
            " 2D)                                                             \n",
            "                                                                 \n",
            " conv2d_3 (Conv2D)           (None, 4, 4, 256)         295168    \n",
            "                                                                 \n",
            " flatten (Flatten)           (None, 4096)              0         \n",
            "                                                                 \n",
            " dense (Dense)               (None, 256)               1048832   \n",
            "                                                                 \n",
            " dropout (Dropout)           (None, 256)               0         \n",
            "                                                                 \n",
            " dense_1 (Dense)             (None, 128)               32896     \n",
            "                                                                 \n",
            " dense_2 (Dense)             (None, 3)                 387       \n",
            "                                                                 \n",
            "=================================================================\n",
            "Total params: 1,470,531\n",
            "Trainable params: 1,470,531\n",
            "Non-trainable params: 0\n",
            "_________________________________________________________________\n"
          ]
        }
      ]
    },
    {
      "cell_type": "code",
      "metadata": {
        "colab": {
          "base_uri": "https://localhost:8080/"
        },
        "id": "NXQ1QBaYM1t4",
        "outputId": "e740ec8e-7979-4464-b26f-7ab00810265f"
      },
      "source": [
        "history = model.fit(x_train,y_train,validation_data=(x_test,y_test),epochs=50,batch_size=64)"
      ],
      "execution_count": null,
      "outputs": [
        {
          "output_type": "stream",
          "name": "stdout",
          "text": [
            "Epoch 1/50\n",
            "4/4 [==============================] - 12s 473ms/step - loss: nan - accuracy: 0.0255 - val_loss: nan - val_accuracy: 0.0000e+00\n",
            "Epoch 2/50\n",
            "4/4 [==============================] - 0s 110ms/step - loss: nan - accuracy: 0.0000e+00 - val_loss: nan - val_accuracy: 0.0000e+00\n",
            "Epoch 3/50\n",
            "4/4 [==============================] - 1s 164ms/step - loss: nan - accuracy: 0.0000e+00 - val_loss: nan - val_accuracy: 0.0000e+00\n",
            "Epoch 4/50\n",
            "4/4 [==============================] - 0s 110ms/step - loss: nan - accuracy: 0.0000e+00 - val_loss: nan - val_accuracy: 0.0000e+00\n",
            "Epoch 5/50\n",
            "4/4 [==============================] - 0s 112ms/step - loss: nan - accuracy: 0.0000e+00 - val_loss: nan - val_accuracy: 0.0000e+00\n",
            "Epoch 6/50\n",
            "4/4 [==============================] - 0s 110ms/step - loss: nan - accuracy: 0.0000e+00 - val_loss: nan - val_accuracy: 0.0000e+00\n",
            "Epoch 7/50\n",
            "4/4 [==============================] - 0s 111ms/step - loss: nan - accuracy: 0.0000e+00 - val_loss: nan - val_accuracy: 0.0000e+00\n",
            "Epoch 8/50\n",
            "4/4 [==============================] - 0s 113ms/step - loss: nan - accuracy: 0.0000e+00 - val_loss: nan - val_accuracy: 0.0000e+00\n",
            "Epoch 9/50\n",
            "4/4 [==============================] - 0s 113ms/step - loss: nan - accuracy: 0.0000e+00 - val_loss: nan - val_accuracy: 0.0000e+00\n",
            "Epoch 10/50\n",
            "4/4 [==============================] - 0s 112ms/step - loss: nan - accuracy: 0.0000e+00 - val_loss: nan - val_accuracy: 0.0000e+00\n",
            "Epoch 11/50\n",
            "4/4 [==============================] - 0s 113ms/step - loss: nan - accuracy: 0.0000e+00 - val_loss: nan - val_accuracy: 0.0000e+00\n",
            "Epoch 12/50\n",
            "4/4 [==============================] - 0s 113ms/step - loss: nan - accuracy: 0.0000e+00 - val_loss: nan - val_accuracy: 0.0000e+00\n",
            "Epoch 13/50\n",
            "4/4 [==============================] - 0s 110ms/step - loss: nan - accuracy: 0.0000e+00 - val_loss: nan - val_accuracy: 0.0000e+00\n",
            "Epoch 14/50\n",
            "4/4 [==============================] - 0s 112ms/step - loss: nan - accuracy: 0.0000e+00 - val_loss: nan - val_accuracy: 0.0000e+00\n",
            "Epoch 15/50\n",
            "4/4 [==============================] - 0s 109ms/step - loss: nan - accuracy: 0.0000e+00 - val_loss: nan - val_accuracy: 0.0000e+00\n",
            "Epoch 16/50\n",
            "4/4 [==============================] - 0s 113ms/step - loss: nan - accuracy: 0.0000e+00 - val_loss: nan - val_accuracy: 0.0000e+00\n",
            "Epoch 17/50\n",
            "4/4 [==============================] - 0s 113ms/step - loss: nan - accuracy: 0.0000e+00 - val_loss: nan - val_accuracy: 0.0000e+00\n",
            "Epoch 18/50\n",
            "4/4 [==============================] - 0s 111ms/step - loss: nan - accuracy: 0.0000e+00 - val_loss: nan - val_accuracy: 0.0000e+00\n",
            "Epoch 19/50\n",
            "4/4 [==============================] - 0s 110ms/step - loss: nan - accuracy: 0.0000e+00 - val_loss: nan - val_accuracy: 0.0000e+00\n",
            "Epoch 20/50\n",
            "4/4 [==============================] - 0s 110ms/step - loss: nan - accuracy: 0.0000e+00 - val_loss: nan - val_accuracy: 0.0000e+00\n",
            "Epoch 21/50\n",
            "4/4 [==============================] - 0s 112ms/step - loss: nan - accuracy: 0.0000e+00 - val_loss: nan - val_accuracy: 0.0000e+00\n",
            "Epoch 22/50\n",
            "4/4 [==============================] - 0s 111ms/step - loss: nan - accuracy: 0.0000e+00 - val_loss: nan - val_accuracy: 0.0000e+00\n",
            "Epoch 23/50\n",
            "4/4 [==============================] - 0s 112ms/step - loss: nan - accuracy: 0.0000e+00 - val_loss: nan - val_accuracy: 0.0000e+00\n",
            "Epoch 24/50\n",
            "4/4 [==============================] - 0s 113ms/step - loss: nan - accuracy: 0.0000e+00 - val_loss: nan - val_accuracy: 0.0000e+00\n",
            "Epoch 25/50\n",
            "4/4 [==============================] - 0s 111ms/step - loss: nan - accuracy: 0.0000e+00 - val_loss: nan - val_accuracy: 0.0000e+00\n",
            "Epoch 26/50\n",
            "4/4 [==============================] - 0s 112ms/step - loss: nan - accuracy: 0.0000e+00 - val_loss: nan - val_accuracy: 0.0000e+00\n",
            "Epoch 27/50\n",
            "4/4 [==============================] - 0s 113ms/step - loss: nan - accuracy: 0.0000e+00 - val_loss: nan - val_accuracy: 0.0000e+00\n",
            "Epoch 28/50\n",
            "4/4 [==============================] - 0s 111ms/step - loss: nan - accuracy: 0.0000e+00 - val_loss: nan - val_accuracy: 0.0000e+00\n",
            "Epoch 29/50\n",
            "4/4 [==============================] - 0s 109ms/step - loss: nan - accuracy: 0.0000e+00 - val_loss: nan - val_accuracy: 0.0000e+00\n",
            "Epoch 30/50\n",
            "4/4 [==============================] - 0s 110ms/step - loss: nan - accuracy: 0.0000e+00 - val_loss: nan - val_accuracy: 0.0000e+00\n",
            "Epoch 31/50\n",
            "4/4 [==============================] - 0s 112ms/step - loss: nan - accuracy: 0.0000e+00 - val_loss: nan - val_accuracy: 0.0000e+00\n",
            "Epoch 32/50\n",
            "4/4 [==============================] - 0s 112ms/step - loss: nan - accuracy: 0.0000e+00 - val_loss: nan - val_accuracy: 0.0000e+00\n",
            "Epoch 33/50\n",
            "4/4 [==============================] - 0s 113ms/step - loss: nan - accuracy: 0.0000e+00 - val_loss: nan - val_accuracy: 0.0000e+00\n",
            "Epoch 34/50\n",
            "4/4 [==============================] - 0s 113ms/step - loss: nan - accuracy: 0.0000e+00 - val_loss: nan - val_accuracy: 0.0000e+00\n",
            "Epoch 35/50\n",
            "4/4 [==============================] - 0s 111ms/step - loss: nan - accuracy: 0.0000e+00 - val_loss: nan - val_accuracy: 0.0000e+00\n",
            "Epoch 36/50\n",
            "4/4 [==============================] - 0s 111ms/step - loss: nan - accuracy: 0.0000e+00 - val_loss: nan - val_accuracy: 0.0000e+00\n",
            "Epoch 37/50\n",
            "4/4 [==============================] - 0s 112ms/step - loss: nan - accuracy: 0.0000e+00 - val_loss: nan - val_accuracy: 0.0000e+00\n",
            "Epoch 38/50\n",
            "4/4 [==============================] - 0s 113ms/step - loss: nan - accuracy: 0.0000e+00 - val_loss: nan - val_accuracy: 0.0000e+00\n",
            "Epoch 39/50\n",
            "4/4 [==============================] - 0s 111ms/step - loss: nan - accuracy: 0.0000e+00 - val_loss: nan - val_accuracy: 0.0000e+00\n",
            "Epoch 40/50\n",
            "4/4 [==============================] - 0s 111ms/step - loss: nan - accuracy: 0.0000e+00 - val_loss: nan - val_accuracy: 0.0000e+00\n",
            "Epoch 41/50\n",
            "4/4 [==============================] - 0s 113ms/step - loss: nan - accuracy: 0.0000e+00 - val_loss: nan - val_accuracy: 0.0000e+00\n",
            "Epoch 42/50\n",
            "4/4 [==============================] - 0s 111ms/step - loss: nan - accuracy: 0.0000e+00 - val_loss: nan - val_accuracy: 0.0000e+00\n",
            "Epoch 43/50\n",
            "4/4 [==============================] - 0s 111ms/step - loss: nan - accuracy: 0.0000e+00 - val_loss: nan - val_accuracy: 0.0000e+00\n",
            "Epoch 44/50\n",
            "4/4 [==============================] - 0s 109ms/step - loss: nan - accuracy: 0.0000e+00 - val_loss: nan - val_accuracy: 0.0000e+00\n",
            "Epoch 45/50\n",
            "4/4 [==============================] - 0s 111ms/step - loss: nan - accuracy: 0.0000e+00 - val_loss: nan - val_accuracy: 0.0000e+00\n",
            "Epoch 46/50\n",
            "4/4 [==============================] - 0s 114ms/step - loss: nan - accuracy: 0.0000e+00 - val_loss: nan - val_accuracy: 0.0000e+00\n",
            "Epoch 47/50\n",
            "4/4 [==============================] - 0s 111ms/step - loss: nan - accuracy: 0.0000e+00 - val_loss: nan - val_accuracy: 0.0000e+00\n",
            "Epoch 48/50\n",
            "4/4 [==============================] - 0s 111ms/step - loss: nan - accuracy: 0.0000e+00 - val_loss: nan - val_accuracy: 0.0000e+00\n",
            "Epoch 49/50\n",
            "4/4 [==============================] - 0s 112ms/step - loss: nan - accuracy: 0.0000e+00 - val_loss: nan - val_accuracy: 0.0000e+00\n",
            "Epoch 50/50\n",
            "4/4 [==============================] - 0s 111ms/step - loss: nan - accuracy: 0.0000e+00 - val_loss: nan - val_accuracy: 0.0000e+00\n"
          ]
        }
      ]
    },
    {
      "cell_type": "code",
      "metadata": {
        "colab": {
          "base_uri": "https://localhost:8080/"
        },
        "id": "dnofI_DewTZf",
        "outputId": "eb789420-d9f2-44fe-f0ac-23aed8ca0d5a"
      },
      "source": [
        "# save the model\n",
        "model.save(\"model.h5\")\n",
        "print(\"model anime\")"
      ],
      "execution_count": null,
      "outputs": [
        {
          "output_type": "stream",
          "name": "stdout",
          "text": [
            "model anime\n"
          ]
        }
      ]
    },
    {
      "cell_type": "code",
      "metadata": {
        "colab": {
          "base_uri": "https://localhost:8080/",
          "height": 1000
        },
        "id": "ZAjvbuUUwcL2",
        "outputId": "cb122300-b686-4eaa-d256-fdb4af4889d4"
      },
      "source": [
        "#summary table\n",
        "df=pd.DataFrame(model.history.history)\n",
        "df['Epoch']=range(0,50)\n",
        "df.index=df['Epoch']\n",
        "df"
      ],
      "execution_count": null,
      "outputs": [
        {
          "output_type": "execute_result",
          "data": {
            "text/html": [
              "<div>\n",
              "<style scoped>\n",
              "    .dataframe tbody tr th:only-of-type {\n",
              "        vertical-align: middle;\n",
              "    }\n",
              "\n",
              "    .dataframe tbody tr th {\n",
              "        vertical-align: top;\n",
              "    }\n",
              "\n",
              "    .dataframe thead th {\n",
              "        text-align: right;\n",
              "    }\n",
              "</style>\n",
              "<table border=\"1\" class=\"dataframe\">\n",
              "  <thead>\n",
              "    <tr style=\"text-align: right;\">\n",
              "      <th></th>\n",
              "      <th>loss</th>\n",
              "      <th>accuracy</th>\n",
              "      <th>val_loss</th>\n",
              "      <th>val_accuracy</th>\n",
              "      <th>Epoch</th>\n",
              "    </tr>\n",
              "    <tr>\n",
              "      <th>Epoch</th>\n",
              "      <th></th>\n",
              "      <th></th>\n",
              "      <th></th>\n",
              "      <th></th>\n",
              "      <th></th>\n",
              "    </tr>\n",
              "  </thead>\n",
              "  <tbody>\n",
              "    <tr>\n",
              "      <th>0</th>\n",
              "      <td>NaN</td>\n",
              "      <td>0.02551</td>\n",
              "      <td>NaN</td>\n",
              "      <td>0.0</td>\n",
              "      <td>0</td>\n",
              "    </tr>\n",
              "    <tr>\n",
              "      <th>1</th>\n",
              "      <td>NaN</td>\n",
              "      <td>0.00000</td>\n",
              "      <td>NaN</td>\n",
              "      <td>0.0</td>\n",
              "      <td>1</td>\n",
              "    </tr>\n",
              "    <tr>\n",
              "      <th>2</th>\n",
              "      <td>NaN</td>\n",
              "      <td>0.00000</td>\n",
              "      <td>NaN</td>\n",
              "      <td>0.0</td>\n",
              "      <td>2</td>\n",
              "    </tr>\n",
              "    <tr>\n",
              "      <th>3</th>\n",
              "      <td>NaN</td>\n",
              "      <td>0.00000</td>\n",
              "      <td>NaN</td>\n",
              "      <td>0.0</td>\n",
              "      <td>3</td>\n",
              "    </tr>\n",
              "    <tr>\n",
              "      <th>4</th>\n",
              "      <td>NaN</td>\n",
              "      <td>0.00000</td>\n",
              "      <td>NaN</td>\n",
              "      <td>0.0</td>\n",
              "      <td>4</td>\n",
              "    </tr>\n",
              "    <tr>\n",
              "      <th>5</th>\n",
              "      <td>NaN</td>\n",
              "      <td>0.00000</td>\n",
              "      <td>NaN</td>\n",
              "      <td>0.0</td>\n",
              "      <td>5</td>\n",
              "    </tr>\n",
              "    <tr>\n",
              "      <th>6</th>\n",
              "      <td>NaN</td>\n",
              "      <td>0.00000</td>\n",
              "      <td>NaN</td>\n",
              "      <td>0.0</td>\n",
              "      <td>6</td>\n",
              "    </tr>\n",
              "    <tr>\n",
              "      <th>7</th>\n",
              "      <td>NaN</td>\n",
              "      <td>0.00000</td>\n",
              "      <td>NaN</td>\n",
              "      <td>0.0</td>\n",
              "      <td>7</td>\n",
              "    </tr>\n",
              "    <tr>\n",
              "      <th>8</th>\n",
              "      <td>NaN</td>\n",
              "      <td>0.00000</td>\n",
              "      <td>NaN</td>\n",
              "      <td>0.0</td>\n",
              "      <td>8</td>\n",
              "    </tr>\n",
              "    <tr>\n",
              "      <th>9</th>\n",
              "      <td>NaN</td>\n",
              "      <td>0.00000</td>\n",
              "      <td>NaN</td>\n",
              "      <td>0.0</td>\n",
              "      <td>9</td>\n",
              "    </tr>\n",
              "    <tr>\n",
              "      <th>10</th>\n",
              "      <td>NaN</td>\n",
              "      <td>0.00000</td>\n",
              "      <td>NaN</td>\n",
              "      <td>0.0</td>\n",
              "      <td>10</td>\n",
              "    </tr>\n",
              "    <tr>\n",
              "      <th>11</th>\n",
              "      <td>NaN</td>\n",
              "      <td>0.00000</td>\n",
              "      <td>NaN</td>\n",
              "      <td>0.0</td>\n",
              "      <td>11</td>\n",
              "    </tr>\n",
              "    <tr>\n",
              "      <th>12</th>\n",
              "      <td>NaN</td>\n",
              "      <td>0.00000</td>\n",
              "      <td>NaN</td>\n",
              "      <td>0.0</td>\n",
              "      <td>12</td>\n",
              "    </tr>\n",
              "    <tr>\n",
              "      <th>13</th>\n",
              "      <td>NaN</td>\n",
              "      <td>0.00000</td>\n",
              "      <td>NaN</td>\n",
              "      <td>0.0</td>\n",
              "      <td>13</td>\n",
              "    </tr>\n",
              "    <tr>\n",
              "      <th>14</th>\n",
              "      <td>NaN</td>\n",
              "      <td>0.00000</td>\n",
              "      <td>NaN</td>\n",
              "      <td>0.0</td>\n",
              "      <td>14</td>\n",
              "    </tr>\n",
              "    <tr>\n",
              "      <th>15</th>\n",
              "      <td>NaN</td>\n",
              "      <td>0.00000</td>\n",
              "      <td>NaN</td>\n",
              "      <td>0.0</td>\n",
              "      <td>15</td>\n",
              "    </tr>\n",
              "    <tr>\n",
              "      <th>16</th>\n",
              "      <td>NaN</td>\n",
              "      <td>0.00000</td>\n",
              "      <td>NaN</td>\n",
              "      <td>0.0</td>\n",
              "      <td>16</td>\n",
              "    </tr>\n",
              "    <tr>\n",
              "      <th>17</th>\n",
              "      <td>NaN</td>\n",
              "      <td>0.00000</td>\n",
              "      <td>NaN</td>\n",
              "      <td>0.0</td>\n",
              "      <td>17</td>\n",
              "    </tr>\n",
              "    <tr>\n",
              "      <th>18</th>\n",
              "      <td>NaN</td>\n",
              "      <td>0.00000</td>\n",
              "      <td>NaN</td>\n",
              "      <td>0.0</td>\n",
              "      <td>18</td>\n",
              "    </tr>\n",
              "    <tr>\n",
              "      <th>19</th>\n",
              "      <td>NaN</td>\n",
              "      <td>0.00000</td>\n",
              "      <td>NaN</td>\n",
              "      <td>0.0</td>\n",
              "      <td>19</td>\n",
              "    </tr>\n",
              "    <tr>\n",
              "      <th>20</th>\n",
              "      <td>NaN</td>\n",
              "      <td>0.00000</td>\n",
              "      <td>NaN</td>\n",
              "      <td>0.0</td>\n",
              "      <td>20</td>\n",
              "    </tr>\n",
              "    <tr>\n",
              "      <th>21</th>\n",
              "      <td>NaN</td>\n",
              "      <td>0.00000</td>\n",
              "      <td>NaN</td>\n",
              "      <td>0.0</td>\n",
              "      <td>21</td>\n",
              "    </tr>\n",
              "    <tr>\n",
              "      <th>22</th>\n",
              "      <td>NaN</td>\n",
              "      <td>0.00000</td>\n",
              "      <td>NaN</td>\n",
              "      <td>0.0</td>\n",
              "      <td>22</td>\n",
              "    </tr>\n",
              "    <tr>\n",
              "      <th>23</th>\n",
              "      <td>NaN</td>\n",
              "      <td>0.00000</td>\n",
              "      <td>NaN</td>\n",
              "      <td>0.0</td>\n",
              "      <td>23</td>\n",
              "    </tr>\n",
              "    <tr>\n",
              "      <th>24</th>\n",
              "      <td>NaN</td>\n",
              "      <td>0.00000</td>\n",
              "      <td>NaN</td>\n",
              "      <td>0.0</td>\n",
              "      <td>24</td>\n",
              "    </tr>\n",
              "    <tr>\n",
              "      <th>25</th>\n",
              "      <td>NaN</td>\n",
              "      <td>0.00000</td>\n",
              "      <td>NaN</td>\n",
              "      <td>0.0</td>\n",
              "      <td>25</td>\n",
              "    </tr>\n",
              "    <tr>\n",
              "      <th>26</th>\n",
              "      <td>NaN</td>\n",
              "      <td>0.00000</td>\n",
              "      <td>NaN</td>\n",
              "      <td>0.0</td>\n",
              "      <td>26</td>\n",
              "    </tr>\n",
              "    <tr>\n",
              "      <th>27</th>\n",
              "      <td>NaN</td>\n",
              "      <td>0.00000</td>\n",
              "      <td>NaN</td>\n",
              "      <td>0.0</td>\n",
              "      <td>27</td>\n",
              "    </tr>\n",
              "    <tr>\n",
              "      <th>28</th>\n",
              "      <td>NaN</td>\n",
              "      <td>0.00000</td>\n",
              "      <td>NaN</td>\n",
              "      <td>0.0</td>\n",
              "      <td>28</td>\n",
              "    </tr>\n",
              "    <tr>\n",
              "      <th>29</th>\n",
              "      <td>NaN</td>\n",
              "      <td>0.00000</td>\n",
              "      <td>NaN</td>\n",
              "      <td>0.0</td>\n",
              "      <td>29</td>\n",
              "    </tr>\n",
              "    <tr>\n",
              "      <th>30</th>\n",
              "      <td>NaN</td>\n",
              "      <td>0.00000</td>\n",
              "      <td>NaN</td>\n",
              "      <td>0.0</td>\n",
              "      <td>30</td>\n",
              "    </tr>\n",
              "    <tr>\n",
              "      <th>31</th>\n",
              "      <td>NaN</td>\n",
              "      <td>0.00000</td>\n",
              "      <td>NaN</td>\n",
              "      <td>0.0</td>\n",
              "      <td>31</td>\n",
              "    </tr>\n",
              "    <tr>\n",
              "      <th>32</th>\n",
              "      <td>NaN</td>\n",
              "      <td>0.00000</td>\n",
              "      <td>NaN</td>\n",
              "      <td>0.0</td>\n",
              "      <td>32</td>\n",
              "    </tr>\n",
              "    <tr>\n",
              "      <th>33</th>\n",
              "      <td>NaN</td>\n",
              "      <td>0.00000</td>\n",
              "      <td>NaN</td>\n",
              "      <td>0.0</td>\n",
              "      <td>33</td>\n",
              "    </tr>\n",
              "    <tr>\n",
              "      <th>34</th>\n",
              "      <td>NaN</td>\n",
              "      <td>0.00000</td>\n",
              "      <td>NaN</td>\n",
              "      <td>0.0</td>\n",
              "      <td>34</td>\n",
              "    </tr>\n",
              "    <tr>\n",
              "      <th>35</th>\n",
              "      <td>NaN</td>\n",
              "      <td>0.00000</td>\n",
              "      <td>NaN</td>\n",
              "      <td>0.0</td>\n",
              "      <td>35</td>\n",
              "    </tr>\n",
              "    <tr>\n",
              "      <th>36</th>\n",
              "      <td>NaN</td>\n",
              "      <td>0.00000</td>\n",
              "      <td>NaN</td>\n",
              "      <td>0.0</td>\n",
              "      <td>36</td>\n",
              "    </tr>\n",
              "    <tr>\n",
              "      <th>37</th>\n",
              "      <td>NaN</td>\n",
              "      <td>0.00000</td>\n",
              "      <td>NaN</td>\n",
              "      <td>0.0</td>\n",
              "      <td>37</td>\n",
              "    </tr>\n",
              "    <tr>\n",
              "      <th>38</th>\n",
              "      <td>NaN</td>\n",
              "      <td>0.00000</td>\n",
              "      <td>NaN</td>\n",
              "      <td>0.0</td>\n",
              "      <td>38</td>\n",
              "    </tr>\n",
              "    <tr>\n",
              "      <th>39</th>\n",
              "      <td>NaN</td>\n",
              "      <td>0.00000</td>\n",
              "      <td>NaN</td>\n",
              "      <td>0.0</td>\n",
              "      <td>39</td>\n",
              "    </tr>\n",
              "    <tr>\n",
              "      <th>40</th>\n",
              "      <td>NaN</td>\n",
              "      <td>0.00000</td>\n",
              "      <td>NaN</td>\n",
              "      <td>0.0</td>\n",
              "      <td>40</td>\n",
              "    </tr>\n",
              "    <tr>\n",
              "      <th>41</th>\n",
              "      <td>NaN</td>\n",
              "      <td>0.00000</td>\n",
              "      <td>NaN</td>\n",
              "      <td>0.0</td>\n",
              "      <td>41</td>\n",
              "    </tr>\n",
              "    <tr>\n",
              "      <th>42</th>\n",
              "      <td>NaN</td>\n",
              "      <td>0.00000</td>\n",
              "      <td>NaN</td>\n",
              "      <td>0.0</td>\n",
              "      <td>42</td>\n",
              "    </tr>\n",
              "    <tr>\n",
              "      <th>43</th>\n",
              "      <td>NaN</td>\n",
              "      <td>0.00000</td>\n",
              "      <td>NaN</td>\n",
              "      <td>0.0</td>\n",
              "      <td>43</td>\n",
              "    </tr>\n",
              "    <tr>\n",
              "      <th>44</th>\n",
              "      <td>NaN</td>\n",
              "      <td>0.00000</td>\n",
              "      <td>NaN</td>\n",
              "      <td>0.0</td>\n",
              "      <td>44</td>\n",
              "    </tr>\n",
              "    <tr>\n",
              "      <th>45</th>\n",
              "      <td>NaN</td>\n",
              "      <td>0.00000</td>\n",
              "      <td>NaN</td>\n",
              "      <td>0.0</td>\n",
              "      <td>45</td>\n",
              "    </tr>\n",
              "    <tr>\n",
              "      <th>46</th>\n",
              "      <td>NaN</td>\n",
              "      <td>0.00000</td>\n",
              "      <td>NaN</td>\n",
              "      <td>0.0</td>\n",
              "      <td>46</td>\n",
              "    </tr>\n",
              "    <tr>\n",
              "      <th>47</th>\n",
              "      <td>NaN</td>\n",
              "      <td>0.00000</td>\n",
              "      <td>NaN</td>\n",
              "      <td>0.0</td>\n",
              "      <td>47</td>\n",
              "    </tr>\n",
              "    <tr>\n",
              "      <th>48</th>\n",
              "      <td>NaN</td>\n",
              "      <td>0.00000</td>\n",
              "      <td>NaN</td>\n",
              "      <td>0.0</td>\n",
              "      <td>48</td>\n",
              "    </tr>\n",
              "    <tr>\n",
              "      <th>49</th>\n",
              "      <td>NaN</td>\n",
              "      <td>0.00000</td>\n",
              "      <td>NaN</td>\n",
              "      <td>0.0</td>\n",
              "      <td>49</td>\n",
              "    </tr>\n",
              "  </tbody>\n",
              "</table>\n",
              "</div>"
            ],
            "text/plain": [
              "       loss  accuracy  val_loss  val_accuracy  Epoch\n",
              "Epoch                                               \n",
              "0       NaN   0.02551       NaN           0.0      0\n",
              "1       NaN   0.00000       NaN           0.0      1\n",
              "2       NaN   0.00000       NaN           0.0      2\n",
              "3       NaN   0.00000       NaN           0.0      3\n",
              "4       NaN   0.00000       NaN           0.0      4\n",
              "5       NaN   0.00000       NaN           0.0      5\n",
              "6       NaN   0.00000       NaN           0.0      6\n",
              "7       NaN   0.00000       NaN           0.0      7\n",
              "8       NaN   0.00000       NaN           0.0      8\n",
              "9       NaN   0.00000       NaN           0.0      9\n",
              "10      NaN   0.00000       NaN           0.0     10\n",
              "11      NaN   0.00000       NaN           0.0     11\n",
              "12      NaN   0.00000       NaN           0.0     12\n",
              "13      NaN   0.00000       NaN           0.0     13\n",
              "14      NaN   0.00000       NaN           0.0     14\n",
              "15      NaN   0.00000       NaN           0.0     15\n",
              "16      NaN   0.00000       NaN           0.0     16\n",
              "17      NaN   0.00000       NaN           0.0     17\n",
              "18      NaN   0.00000       NaN           0.0     18\n",
              "19      NaN   0.00000       NaN           0.0     19\n",
              "20      NaN   0.00000       NaN           0.0     20\n",
              "21      NaN   0.00000       NaN           0.0     21\n",
              "22      NaN   0.00000       NaN           0.0     22\n",
              "23      NaN   0.00000       NaN           0.0     23\n",
              "24      NaN   0.00000       NaN           0.0     24\n",
              "25      NaN   0.00000       NaN           0.0     25\n",
              "26      NaN   0.00000       NaN           0.0     26\n",
              "27      NaN   0.00000       NaN           0.0     27\n",
              "28      NaN   0.00000       NaN           0.0     28\n",
              "29      NaN   0.00000       NaN           0.0     29\n",
              "30      NaN   0.00000       NaN           0.0     30\n",
              "31      NaN   0.00000       NaN           0.0     31\n",
              "32      NaN   0.00000       NaN           0.0     32\n",
              "33      NaN   0.00000       NaN           0.0     33\n",
              "34      NaN   0.00000       NaN           0.0     34\n",
              "35      NaN   0.00000       NaN           0.0     35\n",
              "36      NaN   0.00000       NaN           0.0     36\n",
              "37      NaN   0.00000       NaN           0.0     37\n",
              "38      NaN   0.00000       NaN           0.0     38\n",
              "39      NaN   0.00000       NaN           0.0     39\n",
              "40      NaN   0.00000       NaN           0.0     40\n",
              "41      NaN   0.00000       NaN           0.0     41\n",
              "42      NaN   0.00000       NaN           0.0     42\n",
              "43      NaN   0.00000       NaN           0.0     43\n",
              "44      NaN   0.00000       NaN           0.0     44\n",
              "45      NaN   0.00000       NaN           0.0     45\n",
              "46      NaN   0.00000       NaN           0.0     46\n",
              "47      NaN   0.00000       NaN           0.0     47\n",
              "48      NaN   0.00000       NaN           0.0     48\n",
              "49      NaN   0.00000       NaN           0.0     49"
            ]
          },
          "metadata": {},
          "execution_count": 32
        }
      ]
    },
    {
      "cell_type": "code",
      "metadata": {
        "colab": {
          "base_uri": "https://localhost:8080/",
          "height": 295
        },
        "id": "85UgyJLYwotm",
        "outputId": "239463b4-8ca6-42b9-b8ae-4de6853987a1"
      },
      "source": [
        "# Loss Graph - Multiclass Classification CNN-2D\n",
        "plt.plot(df['loss'], color='red')\n",
        "plt.plot(df['val_loss'], color='yellow')\n",
        "plt.title('Multiclass Classification Model Loss')\n",
        "plt.ylabel('Loss')\n",
        "plt.xlabel('Epoch')\n",
        "plt.legend(['train_loss', 'val_loss'])\n",
        "plt.show()"
      ],
      "execution_count": null,
      "outputs": [
        {
          "output_type": "display_data",
          "data": {
            "image/png": "[encoded data removed]",
            "text/plain": [
              "<Figure size 432x288 with 1 Axes>"
            ]
          },
          "metadata": {
            "needs_background": "light"
          }
        }
      ]
    },
    {
      "cell_type": "code",
      "metadata": {
        "colab": {
          "base_uri": "https://localhost:8080/",
          "height": 295
        },
        "id": "RGdEFgKOwxgT",
        "outputId": "8864a5b3-e5c3-4fe6-8b5a-6990364565d8"
      },
      "source": [
        "# Accuracy Graph - Multiclass Classification CNN-2D\n",
        "plt.plot(df['accuracy'], color='blue')\n",
        "plt.plot(df['val_accuracy'], color='green')\n",
        "plt.title('Multiclass Classification Model Accuracy')\n",
        "plt.ylabel('Accuracy')\n",
        "plt.xlabel('Epoch')\n",
        "plt.legend(['train_acc', 'val_acc'])\n",
        "plt.show()"
      ],
      "execution_count": null,
      "outputs": [
        {
          "output_type": "display_data",
          "data": {
            "image/png": "[encoded data removed]",
            "text/plain": [
              "<Figure size 432x288 with 1 Axes>"
            ]
          },
          "metadata": {
            "needs_background": "light"
          }
        }
      ]
    },
    {
      "cell_type": "markdown",
      "metadata": {
        "id": "YrB3bocE0Anv"
      },
      "source": [
        "Making predictions on new data/predction du model"
      ]
    },
    {
      "cell_type": "code",
      "metadata": {
        "colab": {
          "base_uri": "https://localhost:8080/",
          "height": 286
        },
        "id": "T1WJhC34w_e8",
        "outputId": "65a26ace-23b3-4045-906e-dce6843740c7"
      },
      "source": [
        "#test_image = image.load_img('/content/drive/MyDrive/photos/data/Luffy/luffy face 1.jpg', target_size = (200, 200))\n",
        "#test_image = image.load_img('/content/drive/MyDrive/photos/data/Nico Robin/nico robin face1.jpg', target_size = (200, 200))\n",
        "#test_image = image.load_img('/content/drive/MyDrive/photos/data/Nami/nami face 0.jpg', target_size = (200, 200))\n",
        "test_image = image.load_img('/content/drive/MyDrive/photos/data/Itachi/itachi face1.jpg', target_size = (200, 200))\n",
        "imgplot = plt.imshow(test_image)\n",
        "test_image = image.img_to_array(test_image)\n",
        "test_image = np.expand_dims(test_image, axis = 0)\n",
        "result = model.predict(test_image)\n",
        "\n",
        "if result[0][0] > 0.5 :\n",
        "  print('This is Itachi')\n",
        "elif result[0][1] > 0.5 :\n",
        "  print('This is Luffy')\n",
        "elif result[0][2] > 0.5 :\n",
        "  print('This is Nami')\n",
        "#elif result[0][3] > 0.5 :\n",
        "  #print('This is Nico Robin')\n",
        "#elif result[0][4] > 0.5 :\n",
        "  #print('This is Sanji')\n",
        "#elif result[0][5] > 0.5 :\n",
        "  #print('This is Kamada Tanjiro')\n",
        "#elif result[0][6] > 0.5 :\n",
        "  #print('This is Naruto')\n",
        "#else:\n",
        "  #print('This is Zoro ')\n",
        "else:\n",
        "  print('This is Nico Robin')\n",
        "\n"
      ],
      "execution_count": null,
      "outputs": [
        {
          "output_type": "stream",
          "name": "stdout",
          "text": [
            "This is Itachi\n"
          ]
        },
        {
          "output_type": "display_data",
          "data": {
            "image/png": "[encoded data removed]",
            "text/plain": [
              "<Figure size 432x288 with 1 Axes>"
            ]
          },
          "metadata": {
            "needs_background": "light"
          }
        }
      ]
    },
    {
      "cell_type": "code",
      "source": [
        "partie GUI\n",
        "\n",
        "\n",
        "\n",
        "\n",
        "import tkinter as tk\n",
        "from tkinter import filedialog\n",
        "from tkinter import *\n",
        "from PIL import ImageTk, Image\n",
        "import numpy\n",
        "#load the trained model to classify the images\n",
        "from keras.models import load_model\n",
        "model = load_model('model.h5')\n",
        "\n",
        "\n",
        "\n",
        "#dictionary to label all the CIFAR-10 dataset classes.\n",
        "classes = {\n",
        "5:'Itachi',\n",
        "0:'Luffy',\n",
        "3:'Nami',\n",
        "6:'Naruto',\n",
        "4:'Nico Robin',\n",
        "2:'Sanji',\n",
        "7:'Tanjiro Kamado',\n",
        "1:'Zoro',\n",
        "\n",
        "}\n",
        "\n",
        "\n",
        "\n",
        "\n",
        "#initialise GUI\n",
        "top=tk.Tk()\n",
        "top.geometry('800x600')\n",
        "top.title('Image Classification DSEN-A')\n",
        "top.configure(background='#CDCDCD')\n",
        "label=Label(top,background='#CDCDCD', font=('arial',15,'bold'))\n",
        "sign_image = Label(top)\n",
        "def classify(file_path):\n",
        "global label_packed\n",
        "image = Image.open(file_path)\n",
        "image = image.resize((32,32))\n",
        "image = numpy.expand_dims(image, axis=0)\n",
        "image = numpy.array(image)\n",
        "pred = model.predict_classes([image])[0]\n",
        "sign = classes[pred]\n",
        "print(sign)\n",
        "label.configure(foreground='#011638', text=sign)\n",
        "def show_classify_button(file_path):\n",
        "classify_b=Button(top,text=\"Classify Image\",command=lambda: classify(file_path),padx=10,pady=5)\n",
        "classify_b.configure(background='#364156', foreground='white',font=('arial',10,'bold'))\n",
        "classify_b.place(relx=0.79,rely=0.46)\n",
        "def upload_image():\n",
        "try:\n",
        "file_path=filedialog.askopenfilename()\n",
        "uploaded=Image.open(file_path)\n",
        "uploaded.thumbnail(((top.winfo_width()/2.25),(top.winfo_height()/2.25)))\n",
        "im=ImageTk.PhotoImage(uploaded)\n",
        "sign_image.configure(image=im)\n",
        "sign_image.image=im\n",
        "label.configure(text='')\n",
        "show_classify_button(file_path)\n",
        "except:\n",
        "pass\n",
        "upload=Button(top,text=\"Upload an image\",command=upload_image,padx=10,pady=5)\n",
        "upload.configure(background='#364156', foreground='white',font=('arial',10,'bold'))\n",
        "upload.pack(side=BOTTOM,pady=50)\n",
        "sign_image.pack(side=BOTTOM,expand=True)\n",
        "label.pack(side=BOTTOM,expand=True)\n",
        "heading = Label(top, text=\"Image Classification DSEN-A\",pady=20, font=('arial',20,'bold'))\n",
        "heading.configure(background='#CDCDCD',foreground='#364156')\n",
        "heading.pack()\n",
        "top.mainloop()"
      ],
      "metadata": {
        "id": "ARkMu8KDvAm-"
      },
      "execution_count": null,
      "outputs": []
    }
  ]
}